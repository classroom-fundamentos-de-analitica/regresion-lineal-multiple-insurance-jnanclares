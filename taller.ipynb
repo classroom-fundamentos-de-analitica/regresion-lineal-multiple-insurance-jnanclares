{
 "cells": [
  {
   "cell_type": "code",
   "execution_count": 1,
   "metadata": {},
   "outputs": [],
   "source": [
    "import pandas as pd\n"
   ]
  },
  {
   "cell_type": "code",
   "execution_count": 4,
   "metadata": {},
   "outputs": [],
   "source": [
    "\"\"\"\n",
    "Carga de datos.\n",
    "-------------------------------------------------------------------------------------\n",
    "\"\"\"\n",
    "# Lea el archivo `insurance.csv` y asignelo al DataFrame `df`\n",
    "df = pd.read_csv(\"insurance.csv\", )\n",
    "\n",
    "# Asigne la columna `charges` a la variable `y`.\n",
    "y = df[\"charges\"]\n",
    "\n",
    "# Asigne una copia del dataframe `df` a la variable `X`.\n",
    "X = df.copy()\n",
    "\n",
    "# Remueva la columna `charges` del DataFrame `X`.\n",
    "X.drop(\"charges\", axis=1, inplace=True)\n"
   ]
  },
  {
   "cell_type": "code",
   "execution_count": 5,
   "metadata": {},
   "outputs": [
    {
     "name": "stdout",
     "output_type": "stream",
     "text": [
      "(1338, 6)\n",
      "(1338,)\n",
      "Index(['age', 'sex', 'bmi', 'children', 'smoker', 'region'], dtype='object')\n"
     ]
    }
   ],
   "source": [
    "# Retorne `X` y `y`\n",
    "print(X.shape)\n",
    "print(y.shape)\n",
    "print(X.columns)"
   ]
  },
  {
   "cell_type": "markdown",
   "metadata": {},
   "source": [
    "# p2"
   ]
  },
  {
   "cell_type": "code",
   "execution_count": null,
   "metadata": {},
   "outputs": [],
   "source": []
  },
  {
   "cell_type": "code",
   "execution_count": 6,
   "metadata": {},
   "outputs": [],
   "source": [
    "\n",
    "# Importe train_test_split\n",
    "from sklearn.model_selection import train_test_split\n",
    "\n",
    "# Cargue los datos y asigne los resultados a `X` y `y`.\n",
    "\n",
    "# Divida los datos de entrenamiento y prueba. La semilla del generador de números\n",
    "# aleatorios es 12345. Use 300 patrones para la muestra de prueba.\n",
    "(X_train, X_test, y_train, y_test,) = train_test_split(\n",
    "    X,\n",
    "    y,\n",
    "    test_size=300,\n",
    "    random_state=12345,\n",
    ")\n",
    "\n"
   ]
  },
  {
   "cell_type": "code",
   "execution_count": 7,
   "metadata": {},
   "outputs": [
    {
     "name": "stdout",
     "output_type": "stream",
     "text": [
      "{'male': 536, 'female': 502}\n",
      "{'female': 160, 'male': 140}\n",
      "{'southeast': 289, 'northwest': 261, 'southwest': 244, 'northeast': 244}\n",
      "{'southwest': 81, 'northeast': 80, 'southeast': 75, 'northwest': 64}\n",
      "13825369.07\n",
      "3930455.92\n"
     ]
    }
   ],
   "source": [
    "print(X_train.sex.value_counts().to_dict())\n",
    "print(X_test.sex.value_counts().to_dict())\n",
    "print(X_train.region.value_counts().to_dict())\n",
    "print(X_test.region.value_counts().to_dict())\n",
    "print(y_train.sum().round(2))\n",
    "print(y_test.sum().round(2))\n"
   ]
  },
  {
   "cell_type": "markdown",
   "metadata": {},
   "source": [
    "# p3"
   ]
  },
  {
   "cell_type": "code",
   "execution_count": 9,
   "metadata": {},
   "outputs": [
    {
     "data": {
      "text/plain": [
       "GridSearchCV(cv=5,\n",
       "             estimator=Pipeline(steps=[('column_transfomer',\n",
       "                                        ColumnTransformer(remainder='passthrough',\n",
       "                                                          transformers=[('onehotencoder',\n",
       "                                                                         OneHotEncoder(),\n",
       "                                                                         <sklearn.compose._column_transformer.make_column_selector object at 0x0000019106BA76A0>)])),\n",
       "                                       ('selectKBest',\n",
       "                                        SelectKBest(score_func=<function f_regression at 0x00000191067CB3A0>)),\n",
       "                                       ('linearRegression',\n",
       "                                        LinearRegression())]),\n",
       "             param_grid={'selectKBest__k': range(1, 11)},\n",
       "             scoring='neg_mean_squared_error')"
      ]
     },
     "execution_count": 9,
     "metadata": {},
     "output_type": "execute_result"
    }
   ],
   "source": [
    "# Importe f_regression\n",
    "from sklearn.pipeline import Pipeline\n",
    "from sklearn.model_selection import GridSearchCV\n",
    "from sklearn.linear_model import LinearRegression\n",
    "from sklearn.feature_selection import SelectKBest,f_regression\n",
    "from sklearn.compose import ColumnTransformer\n",
    "from sklearn.preprocessing import OneHotEncoder\n",
    "from sklearn.compose import make_column_selector,make_column_transformer\n",
    "\n",
    "\n",
    "pipeline = Pipeline(\n",
    "    steps=[\n",
    "        # Paso 1: Construya un column_transformer que aplica OneHotEncoder a las\n",
    "        # variables categóricas, y no aplica ninguna transformación al resto de\n",
    "        # las variables.\n",
    "        (\n",
    "            \"column_transfomer\",\n",
    "            make_column_transformer(\n",
    "                (\n",
    "                    OneHotEncoder(),\n",
    "                    make_column_selector(dtype_include=object),\n",
    "                ),\n",
    "                remainder=\"passthrough\",\n",
    "            ),\n",
    "        ),\n",
    "        # Paso 2: Construya un selector de características que seleccione las K\n",
    "        # características más importantes. Utilice la función f_regression.\n",
    "        (\n",
    "            \"selectKBest\",\n",
    "            SelectKBest(score_func=f_regression),\n",
    "        ),\n",
    "        # Paso 3: Construya un modelo de regresión lineal.\n",
    "        (\n",
    "            \"linearRegression\",\n",
    "            LinearRegression(),\n",
    "        ),\n",
    "    ],\n",
    ")\n",
    "\n",
    "\n",
    "# Defina un diccionario de parámetros para el GridSearchCV. Se deben\n",
    "# considerar valores desde 1 hasta 11 regresores para el modelo\n",
    "param_grid = {\n",
    "    \"selectKBest__k\": range(1, 11),\n",
    "}\n",
    "\n",
    "# Defina una instancia de GridSearchCV con el pipeline y el diccionario de\n",
    "# parámetros. Use cv = 5, y como métrica de evaluación el valor negativo del\n",
    "# error cuadrático medio.\n",
    "gridSearchCV = GridSearchCV(\n",
    "        estimator=pipeline,\n",
    "        param_grid=param_grid,\n",
    "        cv=5,\n",
    "        scoring=\"neg_mean_squared_error\",\n",
    "        refit=True,\n",
    "        return_train_score=False,\n",
    "    )\n",
    "\n",
    "# Búsque la mejor combinación de regresores\n",
    "gridSearchCV.fit(X_train, y_train)\n"
   ]
  },
  {
   "cell_type": "code",
   "execution_count": 15,
   "metadata": {},
   "outputs": [],
   "source": [
    "def pregunta_01():\n",
    "    \"\"\"\n",
    "    Carga de datos.\n",
    "    -------------------------------------------------------------------------------------\n",
    "    \"\"\"\n",
    "    # Lea el archivo `insurance.csv` y asignelo al DataFrame `df`\n",
    "    df = pd.read_csv(\"insurance.csv\", )\n",
    "\n",
    "    # Asigne la columna `charges` a la variable `y`.\n",
    "    y = df[\"charges\"]\n",
    "\n",
    "    # Asigne una copia del dataframe `df` a la variable `X`.\n",
    "    X = df.copy()\n",
    "\n",
    "    # Remueva la columna `charges` del DataFrame `X`.\n",
    "    X.drop(\"charges\", axis=1, inplace=True)\n",
    "\n",
    "    # Retorne `X` y `y`\n",
    "    return X, y\n",
    "def pregunta_02():\n",
    "    \"\"\"\n",
    "    Preparación de los conjuntos de datos.\n",
    "    -------------------------------------------------------------------------------------\n",
    "    \"\"\"\n",
    "\n",
    "\n",
    "    # Cargue los datos y asigne los resultados a `X` y `y`.\n",
    "    X, y = pregunta_01()\n",
    "\n",
    "    # Importe train_test_split\n",
    "    from sklearn.model_selection import train_test_split\n",
    "\n",
    "    # Cargue los datos y asigne los resultados a `X` y `y`.\n",
    "\n",
    "    # Divida los datos de entrenamiento y prueba. La semilla del generador de números\n",
    "    # aleatorios es 12345. Use 300 patrones para la muestra de prueba.\n",
    "    (X_train, X_test, y_train, y_test,) = train_test_split(\n",
    "        X,\n",
    "        y,\n",
    "        test_size=300,\n",
    "        random_state=12345,\n",
    "    )\n",
    "\n",
    "    # Retorne `X_train`, `X_test`, `y_train` y `y_test`\n",
    "    return X_train, X_test, y_train, y_test\n",
    "def pregunta_03():\n",
    "    \"\"\"\n",
    "    Especificación del pipeline y entrenamiento\n",
    "    -------------------------------------------------------------------------------------\n",
    "    \"\"\"\n",
    "\n",
    "    # Importe make_column_selector\n",
    "    # Importe make_column_transformer\n",
    "    # Importe SelectKBest\n",
    "    # Importe f_regression\n",
    "    # Importe LinearRegression\n",
    "    # Importe GridSearchCV\n",
    "    # Importe Pipeline\n",
    "    # Importe OneHotEncoder\n",
    "    # Importe f_regression\n",
    "    from sklearn.pipeline import Pipeline\n",
    "    from sklearn.model_selection import GridSearchCV\n",
    "    from sklearn.linear_model import LinearRegression\n",
    "    from sklearn.feature_selection import SelectKBest,f_regression\n",
    "    from sklearn.compose import ColumnTransformer\n",
    "    from sklearn.preprocessing import OneHotEncoder\n",
    "    from sklearn.compose import make_column_selector,make_column_transformer\n",
    "\n",
    "\n",
    "    pipeline = Pipeline(\n",
    "        steps=[\n",
    "            # Paso 1: Construya un column_transformer que aplica OneHotEncoder a las\n",
    "            # variables categóricas, y no aplica ninguna transformación al resto de\n",
    "            # las variables.\n",
    "            (\n",
    "                \"column_transfomer\",\n",
    "                make_column_transformer(\n",
    "                    (\n",
    "                        OneHotEncoder(),\n",
    "                        make_column_selector(dtype_include=object),\n",
    "                    ),\n",
    "                    remainder=\"passthrough\",\n",
    "                ),\n",
    "            ),\n",
    "            # Paso 2: Construya un selector de características que seleccione las K\n",
    "            # características más importantes. Utilice la función f_regression.\n",
    "            (\n",
    "                \"selectKBest\",\n",
    "                SelectKBest(score_func=f_regression),\n",
    "            ),\n",
    "            # Paso 3: Construya un modelo de regresión lineal.\n",
    "            (\n",
    "                \"linearRegression\",\n",
    "                LinearRegression(),\n",
    "            ),\n",
    "        ],\n",
    "    )\n",
    "\n",
    "    # Cargua de las variables.\n",
    "    X_train, _, y_train, _ = pregunta_02()\n",
    "\n",
    "    # Defina un diccionario de parámetros para el GridSearchCV. Se deben\n",
    "    # considerar valores desde 1 hasta 11 regresores para el modelo\n",
    "    param_grid = {\n",
    "        \"selectKBest__k\": range(1, 11),\n",
    "    }\n",
    "\n",
    "    # Defina una instancia de GridSearchCV con el pipeline y el diccionario de\n",
    "    # parámetros. Use cv = 5, y como métrica de evaluación el valor negativo del\n",
    "    # error cuadrático medio.\n",
    "    gridSearchCV = GridSearchCV(\n",
    "            estimator=pipeline,\n",
    "            param_grid=param_grid,\n",
    "            cv=5,\n",
    "            scoring=\"neg_mean_squared_error\",\n",
    "            refit=True,\n",
    "            return_train_score=False,\n",
    "        )\n",
    "\n",
    "    # Búsque la mejor combinación de regresores\n",
    "    gridSearchCV.fit(X_train, y_train)\n",
    "\n",
    "\n",
    "    # Retorne el mejor modelo\n",
    "    return gridSearchCV"
   ]
  },
  {
   "cell_type": "code",
   "execution_count": 17,
   "metadata": {},
   "outputs": [
    {
     "name": "stdout",
     "output_type": "stream",
     "text": [
      "-36943883.57\n",
      "-35336798.88\n"
     ]
    }
   ],
   "source": [
    "\n",
    "pipeline = pregunta_03()\n",
    "print(pipeline.score(X_train,y_train).round(2))\n",
    "print(pipeline.score(X_test,y_test).round(2))"
   ]
  },
  {
   "cell_type": "markdown",
   "metadata": {},
   "source": [
    "# p4"
   ]
  },
  {
   "cell_type": "code",
   "execution_count": 18,
   "metadata": {},
   "outputs": [],
   "source": [
    "# Importe mean_squared_error\n",
    "from sklearn.metrics import mean_squared_error\n",
    "\n",
    "# Obtenga el pipeline optimo de la pregunta 3.\n",
    "gridSearchCV = pregunta_03()\n",
    "\n",
    "# Cargue las variables.\n",
    "X_train, X_test, y_train, y_test = pregunta_02()\n",
    "\n",
    "# Evalúe el modelo con los conjuntos de entrenamiento y prueba.\n",
    "y_train_pred = gridSearchCV.predict(X_train)\n",
    "y_test_pred = gridSearchCV.predict(X_test)\n",
    "\n",
    "# Compute el error cuadratico medio de entrenamiento y prueba. Redondee los\n",
    "# valores a dos decimales.\n",
    "\n",
    "mse_train = mean_squared_error(\n",
    "    y_train,\n",
    "    y_train_pred,\n",
    ").round(2)\n",
    "\n",
    "mse_test = mean_squared_error(\n",
    "    y_test,\n",
    "    y_test_pred,\n",
    ").round(2)\n",
    "\n",
    "\n"
   ]
  },
  {
   "cell_type": "code",
   "execution_count": 19,
   "metadata": {},
   "outputs": [
    {
     "name": "stdout",
     "output_type": "stream",
     "text": [
      "36943883.57\n",
      "35336798.88\n"
     ]
    }
   ],
   "source": [
    "print(mse_train)\n",
    "print(mse_test)"
   ]
  },
  {
   "cell_type": "code",
   "execution_count": null,
   "metadata": {},
   "outputs": [],
   "source": []
  }
 ],
 "metadata": {
  "kernelspec": {
   "display_name": "Python 3.9.12 ('dsbasics')",
   "language": "python",
   "name": "python3"
  },
  "language_info": {
   "codemirror_mode": {
    "name": "ipython",
    "version": 3
   },
   "file_extension": ".py",
   "mimetype": "text/x-python",
   "name": "python",
   "nbconvert_exporter": "python",
   "pygments_lexer": "ipython3",
   "version": "3.9.12"
  },
  "orig_nbformat": 4,
  "vscode": {
   "interpreter": {
    "hash": "fdef10015e310e18bb1b03c6e2d154ddadec9c59a1fe30b9a7c0b13350d0b918"
   }
  }
 },
 "nbformat": 4,
 "nbformat_minor": 2
}
